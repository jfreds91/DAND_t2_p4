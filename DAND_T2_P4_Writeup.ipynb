{
 "cells": [
  {
   "cell_type": "markdown",
   "metadata": {},
   "source": [
    "# Data Analyst NanoDegree: Project 4: Create a Tableau Story\n",
    "Jesse Fredrickson\n",
    "\n",
    "12/22/18"
   ]
  },
  {
   "cell_type": "markdown",
   "metadata": {},
   "source": [
    "## Summary\n",
    "*in no more than 4 sentences, briefly introduce your data visualization and add any context that can help readers understand it*\n",
    "\n",
    "For this project, I have analyzed a dataset comprised of flight data within the United States during the year 2008. The dataset contains information on ~7,000,000 flights including origin and destination airports, departure and arrival times, carrier info, and delays each flight may have experienced. The question I sought to answer was: as a Boston resident, if I would like to fly out of Boston Logan Airport, when are the best (and worst) times to plan my flight? According to 2008 flight data, the best time to depart is at 4 or 5 am on a weekday in October, so plan your vacations accordingly.\n",
    "\n",
    "Initial visualization: https://public.tableau.com/profile/jesse6313#!/vizhome/DAND_T2_P4_initial/Dashboard2?publish=yes\n",
    "Final visualization: https://public.tableau.com/profile/jesse6313#!/vizhome/DAND_T2_P4_final/Dashboard2?publish=yes"
   ]
  },
  {
   "cell_type": "markdown",
   "metadata": {},
   "source": [
    "## Design\n",
    "*explain any design choices you made including changes to the visualization after collecting feedback*\n",
    "\n",
    "In order to answer this question effectively, I sought to show my data in as few visualizations as possible while making sure that each visualization still immediately conveyed information in a simple and intuitive way. However, I found that even simple visualizations needed refinement.\n",
    "\n",
    "#### Data Processing\n",
    "My first pass at visualizing the data involved downloading all years available and attempting to combine them programmatically into a single dataset. This failed due to memory restrictions on my computer because each file is millions of lines long, so I opted to only consider the most recent year, 2008. However, I did import some more supplemental data and insert a few calculated columns to assist in data exploration. I first imported a .csv of airport info by iata code to get more detail on origin and destination airports. I imported this twice, and joined it on origin iata and destination iata, respectively. This way I would have more information on the origin and destination airports beyond iata code in case I wanted to investigate geographic trends. I then created two calculated columns - one called 'Date' which combined the day, month, and year columns into a single date field, and one called 'Total Delay' which combined all the delay sources into a total delay for streamlined cumulative delay investigations. Finally, I ended up creating a third calculated column which extracted the hour of departure so I could use departure time as a discrete dimension rather than a continuous measurement.\n",
    "\n",
    "#### Filters\n",
    "My initial question was actually a more general one: \"when are the best times of year, week, and day to fly?\" I did not narrow my focus to Boston, but during the course of my analysis I found that the data was somewhat overwhelming and without some filters would create more questions than it answered due to odd results. For instance, one of my initial passes showed a few major outliers which I dove into and found that some airports had either very few data points with extremely high average delays, or only had outbound flights to a handful of popular destinations which drove up delay times in a few departure time brackets. For example - Nantucket only has flights to New York City and Chicago, which do not serve to answer my very general question as they are too specific. To counter this, I decided to narrow the scope of my analysis to flights departing from Boston wherever possible. I was able to restrict my *Delay Sources per Month, Origin: Boston* graph to Boston only, but doing so for the *Delay Time Heatmap* resulted in a large number of blank regions with no data, so because I like the overall airport trend shown in that plot I decided to keep it open to all origin airports.\n",
    "\n",
    "Another issue arises pertaining to number of records. Notice that the scale of delay time goes up to 657 minutes on the *Delay Time Heatmap*. This is because at that granularity, some instances of time and date do not have enough records to balance out outliers when averaged. Unfortunately, putting a filter on the number of records here led to a large number of blank areas at unpopular flight times, so I decided to keep the outliers in. In order to combat their influence on the reader, I added the number of data points as a mouseover detal so that the reader can see where extreme data points may be due to low data density.\n",
    "\n",
    "#### Companion charts\n",
    "In fact, the question of number of records came up again when I sought feedback from a friend. On the *Delay Sources per Month, Origin: Boston* worksheet, the huge spike in delays seen over the summer was somewhat surprising to my test reader (and myself), and he immediately asked if it was because more people were flying during those months. I dove into this and found that in fact there was not a significant rise in flight records during the months of June-August, and even when there was a jump in records between February and March, there was actually a decline in delays accross the board. I decided to keep this added visualization on the chart because it was an interesting observation, although I will note that I do not know for certain that the dataset I am using is a complete record - it may only reflect a sample of flights, and miss a jump in total flights.\n",
    "\n",
    "#### Chart types\n",
    "I had a few iterations of my two main visualizations before I settled on their final forms. For the *Delay Time Heatmap* chart, I played around with displaying the number of records associated with each coordinate as a size feature, which showed the points with few data points as very small. Although It clearly showed that fewer flights took place at the hours associated with the least delays, it made the color - the delay time - less clear. I elected to remove the size feature because it distracted from the main takeaway of the chart: when to fly.\n",
    "\n",
    "On the *Delay Sources per Month, Origin: Boston* worksheet, I could have combined the delay measures into stacked bars or into area polygons for a \"prettier\" image, but I felt that it made trends in each individual delay type less obvious. I also experimented with combining the number of records visualization on the same sheet into a dual-axis type chart, but I found that it became extremely distracting no matter how I decided to show it that way. I settled on keeping it as a separate chart, even though it takes up more visual space that way. "
   ]
  },
  {
   "cell_type": "markdown",
   "metadata": {},
   "source": [
    "## Feedback\n",
    "*include all feedback you received from others on your visualization from the first sketch to the final visualization*\n",
    "\n",
    "I walked through my visualizations with two friends for their feedback midway through the project.\n",
    "\n",
    "#### Data integrity\n",
    "One friend pointed out that my *Delay Time Heatmap* had both an entry for the hour 24 as well as the hour 0. In military time, there should be no 24. This prompted me to remove data points that claimed to be departures at 24:xx. Both firends pointed out that my y-axis on the same chart gave month as a number and not a string, so I changed that in my final visualization as well. Both friends also pointed out some outliers, such as a single datapoint on the *Delay Time Heatmap* that had a 600+ minute delay and threw off the scale. As I stated in the design section, this prompted me to put a mouseover detail for the number of records to help explain outliers. \n",
    "\n",
    "#### Measure Clarity\n",
    "I also got questions about some of the measures in my data. On the *Delay Sources per Month, Origin: Boston* worksheet I had forgotten to label one my y-axes as \"Average Delay in minutes\", so I corrected this in the final version. Some of the measures themselves were also confusing; the average reader does not know that the NAS delay refers to a delay due to the National Airspace System, and also does not know the difference between a NAS delay and a weather delay, or if a weather delay refers to origin or destination weather. Although I can't succinctly answer these questions on the charts themselves, I will provide resources to clarify these points in an accompanying readme file. As I stated in the Design portion of the report, a friend also asked a few questions about my *Delay Sources per Month, Origin: Boston* visualization which prompted me to add a number of records plot onto the same workbook. "
   ]
  },
  {
   "cell_type": "markdown",
   "metadata": {},
   "source": [
    "## Resources\n",
    "*list any sources you consulted to create your visualization*\n",
    "\n",
    "Source Data:\n",
    "http://stat-computing.org/dataexpo/2009/the-data.html\n",
    "http://stat-computing.org/dataexpo/2009/supplemental-data.html\n",
    "\n",
    "Delay definitions:\n",
    "https://aspmhelp.faa.gov/index.php/Types_of_Delay"
   ]
  },
  {
   "cell_type": "code",
   "execution_count": null,
   "metadata": {},
   "outputs": [],
   "source": []
  }
 ],
 "metadata": {
  "kernelspec": {
   "display_name": "Python [default]",
   "language": "python",
   "name": "python3"
  },
  "language_info": {
   "codemirror_mode": {
    "name": "ipython",
    "version": 3
   },
   "file_extension": ".py",
   "mimetype": "text/x-python",
   "name": "python",
   "nbconvert_exporter": "python",
   "pygments_lexer": "ipython3",
   "version": "3.6.5"
  }
 },
 "nbformat": 4,
 "nbformat_minor": 2
}
