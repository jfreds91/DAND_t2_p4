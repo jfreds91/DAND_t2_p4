{
 "cells": [
  {
   "cell_type": "code",
   "execution_count": 32,
   "metadata": {},
   "outputs": [],
   "source": [
    "# this code is used to explore some data issues from the dataset in tableau\n",
    "\n",
    "import pandas as pd\n",
    "import numpy as np\n",
    "import matplotlib.pyplot as plt\n",
    "from scipy import stats\n",
    "\n",
    "%matplotlib inline\n"
   ]
  },
  {
   "cell_type": "code",
   "execution_count": 2,
   "metadata": {},
   "outputs": [
    {
     "name": "stderr",
     "output_type": "stream",
     "text": [
      "C:\\Users\\Jesse\\Anaconda3\\lib\\site-packages\\IPython\\core\\interactiveshell.py:2785: DtypeWarning: Columns (10) have mixed types. Specify dtype option on import or set low_memory=False.\n",
      "  interactivity=interactivity, compiler=compiler, result=result)\n"
     ]
    },
    {
     "data": {
      "text/html": [
       "<div>\n",
       "<style scoped>\n",
       "    .dataframe tbody tr th:only-of-type {\n",
       "        vertical-align: middle;\n",
       "    }\n",
       "\n",
       "    .dataframe tbody tr th {\n",
       "        vertical-align: top;\n",
       "    }\n",
       "\n",
       "    .dataframe thead th {\n",
       "        text-align: right;\n",
       "    }\n",
       "</style>\n",
       "<table border=\"1\" class=\"dataframe\">\n",
       "  <thead>\n",
       "    <tr style=\"text-align: right;\">\n",
       "      <th></th>\n",
       "      <th>Actual Elapsed Time</th>\n",
       "      <th>Air Time</th>\n",
       "      <th>Arr Delay</th>\n",
       "      <th>Arr Time</th>\n",
       "      <th>CRS Arr Time</th>\n",
       "      <th>CRS Dep Time</th>\n",
       "      <th>CRS Elapsed Time</th>\n",
       "      <th>Date</th>\n",
       "      <th>Total Delay</th>\n",
       "      <th>Dep Hour</th>\n",
       "      <th>...</th>\n",
       "      <th>Dest Country (Airports.Csv1)</th>\n",
       "      <th>Origin Country</th>\n",
       "      <th>Dest Iata (Airports.Csv1)</th>\n",
       "      <th>Origin Iata</th>\n",
       "      <th>Lat (Airports.Csv1)</th>\n",
       "      <th>Lat</th>\n",
       "      <th>Long (Airports.Csv1)</th>\n",
       "      <th>Long</th>\n",
       "      <th>Dest State (Airports.Csv1)</th>\n",
       "      <th>Origin State</th>\n",
       "    </tr>\n",
       "  </thead>\n",
       "  <tbody>\n",
       "    <tr>\n",
       "      <th>0</th>\n",
       "      <td>204.0</td>\n",
       "      <td>184.0</td>\n",
       "      <td>15.0</td>\n",
       "      <td>1945.0</td>\n",
       "      <td>1930</td>\n",
       "      <td>1710</td>\n",
       "      <td>200.0</td>\n",
       "      <td>1/25/2008</td>\n",
       "      <td>26.0</td>\n",
       "      <td>17.0</td>\n",
       "      <td>...</td>\n",
       "      <td>USA</td>\n",
       "      <td>USA</td>\n",
       "      <td>PHX</td>\n",
       "      <td>MSP</td>\n",
       "      <td>33.434167</td>\n",
       "      <td>44.880547</td>\n",
       "      <td>-112.008056</td>\n",
       "      <td>-93.216922</td>\n",
       "      <td>AZ</td>\n",
       "      <td>MN</td>\n",
       "    </tr>\n",
       "    <tr>\n",
       "      <th>1</th>\n",
       "      <td>333.0</td>\n",
       "      <td>284.0</td>\n",
       "      <td>57.0</td>\n",
       "      <td>933.0</td>\n",
       "      <td>836</td>\n",
       "      <td>700</td>\n",
       "      <td>276.0</td>\n",
       "      <td>1/25/2008</td>\n",
       "      <td>57.0</td>\n",
       "      <td>7.0</td>\n",
       "      <td>...</td>\n",
       "      <td>USA</td>\n",
       "      <td>USA</td>\n",
       "      <td>LAX</td>\n",
       "      <td>IND</td>\n",
       "      <td>33.942536</td>\n",
       "      <td>39.717329</td>\n",
       "      <td>-118.408074</td>\n",
       "      <td>-86.294384</td>\n",
       "      <td>CA</td>\n",
       "      <td>IN</td>\n",
       "    </tr>\n",
       "    <tr>\n",
       "      <th>2</th>\n",
       "      <td>365.0</td>\n",
       "      <td>304.0</td>\n",
       "      <td>67.0</td>\n",
       "      <td>1232.0</td>\n",
       "      <td>1125</td>\n",
       "      <td>926</td>\n",
       "      <td>299.0</td>\n",
       "      <td>1/25/2008</td>\n",
       "      <td>68.0</td>\n",
       "      <td>9.0</td>\n",
       "      <td>...</td>\n",
       "      <td>USA</td>\n",
       "      <td>USA</td>\n",
       "      <td>LAX</td>\n",
       "      <td>DTW</td>\n",
       "      <td>33.942536</td>\n",
       "      <td>42.212059</td>\n",
       "      <td>-118.408074</td>\n",
       "      <td>-83.348836</td>\n",
       "      <td>CA</td>\n",
       "      <td>MI</td>\n",
       "    </tr>\n",
       "    <tr>\n",
       "      <th>3</th>\n",
       "      <td>277.0</td>\n",
       "      <td>218.0</td>\n",
       "      <td>48.0</td>\n",
       "      <td>1354.0</td>\n",
       "      <td>1306</td>\n",
       "      <td>1122</td>\n",
       "      <td>224.0</td>\n",
       "      <td>1/25/2008</td>\n",
       "      <td>43.0</td>\n",
       "      <td>11.0</td>\n",
       "      <td>...</td>\n",
       "      <td>USA</td>\n",
       "      <td>USA</td>\n",
       "      <td>SAN</td>\n",
       "      <td>MSP</td>\n",
       "      <td>32.733556</td>\n",
       "      <td>44.880547</td>\n",
       "      <td>-117.189657</td>\n",
       "      <td>-93.216922</td>\n",
       "      <td>CA</td>\n",
       "      <td>MN</td>\n",
       "    </tr>\n",
       "    <tr>\n",
       "      <th>4</th>\n",
       "      <td>333.0</td>\n",
       "      <td>266.0</td>\n",
       "      <td>83.0</td>\n",
       "      <td>1803.0</td>\n",
       "      <td>1640</td>\n",
       "      <td>1430</td>\n",
       "      <td>250.0</td>\n",
       "      <td>1/25/2008</td>\n",
       "      <td>83.0</td>\n",
       "      <td>14.0</td>\n",
       "      <td>...</td>\n",
       "      <td>USA</td>\n",
       "      <td>USA</td>\n",
       "      <td>LAX</td>\n",
       "      <td>MEM</td>\n",
       "      <td>33.942536</td>\n",
       "      <td>35.042417</td>\n",
       "      <td>-118.408074</td>\n",
       "      <td>-89.976667</td>\n",
       "      <td>CA</td>\n",
       "      <td>TN</td>\n",
       "    </tr>\n",
       "  </tbody>\n",
       "</table>\n",
       "<p>5 rows × 48 columns</p>\n",
       "</div>"
      ],
      "text/plain": [
       "   Actual Elapsed Time  Air Time  Arr Delay  Arr Time  CRS Arr Time  \\\n",
       "0                204.0     184.0       15.0    1945.0          1930   \n",
       "1                333.0     284.0       57.0     933.0           836   \n",
       "2                365.0     304.0       67.0    1232.0          1125   \n",
       "3                277.0     218.0       48.0    1354.0          1306   \n",
       "4                333.0     266.0       83.0    1803.0          1640   \n",
       "\n",
       "   CRS Dep Time  CRS Elapsed Time       Date  Total Delay  Dep Hour  \\\n",
       "0          1710             200.0  1/25/2008         26.0      17.0   \n",
       "1           700             276.0  1/25/2008         57.0       7.0   \n",
       "2           926             299.0  1/25/2008         68.0       9.0   \n",
       "3          1122             224.0  1/25/2008         43.0      11.0   \n",
       "4          1430             250.0  1/25/2008         83.0      14.0   \n",
       "\n",
       "       ...      Dest Country (Airports.Csv1)  Origin Country  \\\n",
       "0      ...                               USA             USA   \n",
       "1      ...                               USA             USA   \n",
       "2      ...                               USA             USA   \n",
       "3      ...                               USA             USA   \n",
       "4      ...                               USA             USA   \n",
       "\n",
       "   Dest Iata (Airports.Csv1) Origin Iata  Lat (Airports.Csv1)        Lat  \\\n",
       "0                        PHX         MSP            33.434167  44.880547   \n",
       "1                        LAX         IND            33.942536  39.717329   \n",
       "2                        LAX         DTW            33.942536  42.212059   \n",
       "3                        SAN         MSP            32.733556  44.880547   \n",
       "4                        LAX         MEM            33.942536  35.042417   \n",
       "\n",
       "   Long (Airports.Csv1)       Long  Dest State (Airports.Csv1)  Origin State  \n",
       "0           -112.008056 -93.216922                          AZ            MN  \n",
       "1           -118.408074 -86.294384                          CA            IN  \n",
       "2           -118.408074 -83.348836                          CA            MI  \n",
       "3           -117.189657 -93.216922                          CA            MN  \n",
       "4           -118.408074 -89.976667                          CA            TN  \n",
       "\n",
       "[5 rows x 48 columns]"
      ]
     },
     "execution_count": 2,
     "metadata": {},
     "output_type": "execute_result"
    }
   ],
   "source": [
    "df = pd.read_csv('2008_edit.csv')\n",
    "df.head()"
   ]
  },
  {
   "cell_type": "code",
   "execution_count": 3,
   "metadata": {},
   "outputs": [
    {
     "data": {
      "text/plain": [
       "Index(['Actual Elapsed Time', 'Air Time', 'Arr Delay', 'Arr Time',\n",
       "       'CRS Arr Time', 'CRS Dep Time', 'CRS Elapsed Time', 'Date',\n",
       "       'Total Delay', 'Dep Hour', 'Cancellation Code', 'Cancelled',\n",
       "       'Carrier Delay', 'Day Of Week', 'Dayof Month', 'Dep Delay', 'Dep Time',\n",
       "       'Dest', 'Distance', 'Diverted', 'F1', 'Flight Num',\n",
       "       'Late Aircraft Delay', 'Month', 'NAS Delay', 'Number of Records',\n",
       "       'Origin', 'Security Delay', 'Tail Num', 'Taxi In', 'Taxi Out',\n",
       "       'Unique Carrier', 'Weather Delay', 'Year',\n",
       "       'Dest Airport (Airports.Csv1)', 'Origin Airport',\n",
       "       'Dest City (Airports.Csv1)', 'Origin City',\n",
       "       'Dest Country (Airports.Csv1)', 'Origin Country',\n",
       "       'Dest Iata (Airports.Csv1)', 'Origin Iata', 'Lat (Airports.Csv1)',\n",
       "       'Lat', 'Long (Airports.Csv1)', 'Long', 'Dest State (Airports.Csv1)',\n",
       "       'Origin State'],\n",
       "      dtype='object')"
      ]
     },
     "execution_count": 3,
     "metadata": {},
     "output_type": "execute_result"
    }
   ],
   "source": [
    "df.columns"
   ]
  },
  {
   "cell_type": "code",
   "execution_count": 6,
   "metadata": {},
   "outputs": [
    {
     "data": {
      "text/plain": [
       "154699"
      ]
     },
     "execution_count": 6,
     "metadata": {},
     "output_type": "execute_result"
    }
   ],
   "source": [
    "df['Total Delay'].isna().sum()"
   ]
  },
  {
   "cell_type": "code",
   "execution_count": 12,
   "metadata": {},
   "outputs": [
    {
     "data": {
      "image/png": "[encoded data removed]",
      "text/plain": [
       "<Figure size 432x288 with 1 Axes>"
      ]
     },
     "metadata": {},
     "output_type": "display_data"
    }
   ],
   "source": [
    "df['Total Delay'].fillna(0, inplace=True)\n",
    "plt.hist(df['Total Delay'], bins = 50);"
   ]
  },
  {
   "cell_type": "code",
   "execution_count": 9,
   "metadata": {},
   "outputs": [
    {
     "data": {
      "text/plain": [
       "count    7.009728e+06\n",
       "mean     1.769302e+01\n",
       "std      7.167869e+01\n",
       "min     -1.053000e+03\n",
       "25%     -1.300000e+01\n",
       "50%     -2.000000e+00\n",
       "75%      1.700000e+01\n",
       "max      4.920000e+03\n",
       "Name: Total Delay, dtype: float64"
      ]
     },
     "execution_count": 9,
     "metadata": {},
     "output_type": "execute_result"
    }
   ],
   "source": [
    "df['Total Delay'].describe()"
   ]
  },
  {
   "cell_type": "code",
   "execution_count": 19,
   "metadata": {},
   "outputs": [
    {
     "data": {
      "text/plain": [
       "13371485.0"
      ]
     },
     "execution_count": 19,
     "metadata": {},
     "output_type": "execute_result"
    }
   ],
   "source": [
    "df['Total Delay'][df['Total Delay'] > 500].sum()"
   ]
  },
  {
   "cell_type": "code",
   "execution_count": 25,
   "metadata": {},
   "outputs": [],
   "source": [
    "df_outliers = df[df['Total Delay']>1000]"
   ]
  },
  {
   "cell_type": "code",
   "execution_count": 26,
   "metadata": {},
   "outputs": [
    {
     "data": {
      "image/png": "[encoded data removed]",
      "text/plain": [
       "<Figure size 432x288 with 1 Axes>"
      ]
     },
     "metadata": {},
     "output_type": "display_data"
    }
   ],
   "source": [
    "plt.hist(df_outliers['Total Delay'], bins = 50);"
   ]
  },
  {
   "cell_type": "code",
   "execution_count": 29,
   "metadata": {},
   "outputs": [
    {
     "data": {
      "text/plain": [
       "Actual Elapsed Time                                         154\n",
       "Air Time                                                    132\n",
       "Arr Delay                                                  2453\n",
       "Arr Time                                                    858\n",
       "CRS Arr Time                                               1605\n",
       "CRS Dep Time                                               1417\n",
       "CRS Elapsed Time                                            168\n",
       "Date                                                  4/10/2008\n",
       "Total Delay                                                4920\n",
       "Dep Hour                                                      7\n",
       "Cancellation Code                                           NaN\n",
       "Cancelled                                                     0\n",
       "Carrier Delay                                              2436\n",
       "Day Of Week                                            Thursday\n",
       "Dayof Month                                                  10\n",
       "Dep Delay                                                  2467\n",
       "Dep Time                                                    724\n",
       "Dest                                                        MSP\n",
       "Distance                                                    930\n",
       "Diverted                                                      0\n",
       "F1                                                      2235378\n",
       "Flight Num                                                 1699\n",
       "Late Aircraft Delay                                          17\n",
       "Month                                                         4\n",
       "NAS Delay                                                     0\n",
       "Number of Records                                             1\n",
       "Origin                                                      CLT\n",
       "Security Delay                                                0\n",
       "Tail Num                                                 N3324L\n",
       "Taxi In                                                       8\n",
       "Taxi Out                                                     14\n",
       "Unique Carrier                                               NW\n",
       "Weather Delay                                                 0\n",
       "Year                                                       2008\n",
       "Dest Airport (Airports.Csv1)           Minneapolis-St Paul Intl\n",
       "Origin Airport                  Charlotte/Douglas International\n",
       "Dest City (Airports.Csv1)                           Minneapolis\n",
       "Origin City                                           Charlotte\n",
       "Dest Country (Airports.Csv1)                                USA\n",
       "Origin Country                                              USA\n",
       "Dest Iata (Airports.Csv1)                                   MSP\n",
       "Origin Iata                                                 CLT\n",
       "Lat (Airports.Csv1)                                     44.8805\n",
       "Lat                                                      35.214\n",
       "Long (Airports.Csv1)                                   -93.2169\n",
       "Long                                                   -80.9431\n",
       "Dest State (Airports.Csv1)                                   MN\n",
       "Origin State                                                 NC\n",
       "Name: 2471624, dtype: object"
      ]
     },
     "execution_count": 29,
     "metadata": {},
     "output_type": "execute_result"
    }
   ],
   "source": [
    "df.iloc[df['Total Delay'].idxmax()]"
   ]
  },
  {
   "cell_type": "code",
   "execution_count": 34,
   "metadata": {},
   "outputs": [
    {
     "data": {
      "text/plain": [
       "(array([1.000000e+00, 0.000000e+00, 0.000000e+00, 0.000000e+00,\n",
       "        0.000000e+00, 0.000000e+00, 0.000000e+00, 1.000000e+00,\n",
       "        2.000000e+00, 0.000000e+00, 1.000000e+00, 0.000000e+00,\n",
       "        0.000000e+00, 0.000000e+00, 1.000000e+00, 0.000000e+00,\n",
       "        0.000000e+00, 0.000000e+00, 0.000000e+00, 1.000000e+00,\n",
       "        1.000000e+00, 1.000000e+00, 1.000000e+00, 1.000000e+00,\n",
       "        1.000000e+00, 1.000000e+00, 2.000000e+00, 2.000000e+00,\n",
       "        3.000000e+00, 6.000000e+00, 3.000000e+00, 2.000000e+00,\n",
       "        4.000000e+00, 1.100000e+01, 7.000000e+00, 8.000000e+00,\n",
       "        1.600000e+01, 1.900000e+01, 2.600000e+01, 3.500000e+01,\n",
       "        7.200000e+01, 7.800000e+01, 8.800000e+01, 1.210000e+02,\n",
       "        1.770000e+02, 2.190000e+02, 3.200000e+02, 4.180000e+02,\n",
       "        5.760000e+02, 1.145000e+03, 1.531900e+04, 5.516040e+05,\n",
       "        5.036832e+06, 1.198549e+06, 1.466850e+05, 3.467400e+04,\n",
       "        1.244100e+04, 5.102000e+03, 2.442000e+03, 1.274000e+03,\n",
       "        6.090000e+02, 3.660000e+02, 1.960000e+02, 1.120000e+02,\n",
       "        5.900000e+01, 3.600000e+01, 1.800000e+01, 1.500000e+01,\n",
       "        9.000000e+00, 3.000000e+00, 2.000000e+00, 3.000000e+00,\n",
       "        0.000000e+00, 1.000000e+00, 1.000000e+00, 0.000000e+00,\n",
       "        0.000000e+00, 0.000000e+00, 1.000000e+00, 0.000000e+00,\n",
       "        0.000000e+00, 0.000000e+00, 0.000000e+00, 1.000000e+00,\n",
       "        0.000000e+00, 0.000000e+00, 0.000000e+00, 1.000000e+00,\n",
       "        0.000000e+00, 0.000000e+00, 1.000000e+00, 0.000000e+00,\n",
       "        0.000000e+00, 0.000000e+00, 0.000000e+00, 0.000000e+00,\n",
       "        0.000000e+00, 0.000000e+00, 0.000000e+00, 1.000000e+00]),\n",
       " array([-1154.  , -1132.12, -1110.24, -1088.36, -1066.48, -1044.6 ,\n",
       "        -1022.72, -1000.84,  -978.96,  -957.08,  -935.2 ,  -913.32,\n",
       "         -891.44,  -869.56,  -847.68,  -825.8 ,  -803.92,  -782.04,\n",
       "         -760.16,  -738.28,  -716.4 ,  -694.52,  -672.64,  -650.76,\n",
       "         -628.88,  -607.  ,  -585.12,  -563.24,  -541.36,  -519.48,\n",
       "         -497.6 ,  -475.72,  -453.84,  -431.96,  -410.08,  -388.2 ,\n",
       "         -366.32,  -344.44,  -322.56,  -300.68,  -278.8 ,  -256.92,\n",
       "         -235.04,  -213.16,  -191.28,  -169.4 ,  -147.52,  -125.64,\n",
       "         -103.76,   -81.88,   -60.  ,   -38.12,   -16.24,     5.64,\n",
       "           27.52,    49.4 ,    71.28,    93.16,   115.04,   136.92,\n",
       "          158.8 ,   180.68,   202.56,   224.44,   246.32,   268.2 ,\n",
       "          290.08,   311.96,   333.84,   355.72,   377.6 ,   399.48,\n",
       "          421.36,   443.24,   465.12,   487.  ,   508.88,   530.76,\n",
       "          552.64,   574.52,   596.4 ,   618.28,   640.16,   662.04,\n",
       "          683.92,   705.8 ,   727.68,   749.56,   771.44,   793.32,\n",
       "          815.2 ,   837.08,   858.96,   880.84,   902.72,   924.6 ,\n",
       "          946.48,   968.36,   990.24,  1012.12,  1034.  ]),\n",
       " <a list of 100 Patch objects>)"
      ]
     },
     "execution_count": 34,
     "metadata": {},
     "output_type": "execute_result"
    },
    {
     "data": {
      "image/png": "[encoded data removed]",
      "text/plain": [
       "<Figure size 432x288 with 1 Axes>"
      ]
     },
     "metadata": {},
     "output_type": "display_data"
    }
   ],
   "source": [
    "plt.hist(df['Arr Delay'].fillna(0) - df['Dep Delay'].fillna(0), bins=100)"
   ]
  },
  {
   "cell_type": "code",
   "execution_count": 33,
   "metadata": {},
   "outputs": [
    {
     "data": {
      "text/plain": [
       "DescribeResult(nobs=7009728, minmax=(-1154.0, 1034.0), mean=-1.790554925954331, variance=204.2271149199112, skewness=1.3338059370344815, kurtosis=67.79110384634755)"
      ]
     },
     "execution_count": 33,
     "metadata": {},
     "output_type": "execute_result"
    }
   ],
   "source": [
    "stats.describe(df['Arr Delay'].fillna(0) - df['Dep Delay'].fillna(0))\n"
   ]
  },
  {
   "cell_type": "code",
   "execution_count": 37,
   "metadata": {},
   "outputs": [
    {
     "data": {
      "text/plain": [
       "-3.0"
      ]
     },
     "execution_count": 37,
     "metadata": {},
     "output_type": "execute_result"
    }
   ],
   "source": [
    "np.median([df['Arr Delay'].fillna(0) - df['Dep Delay'].fillna(0)])"
   ]
  },
  {
   "cell_type": "code",
   "execution_count": null,
   "metadata": {},
   "outputs": [],
   "source": []
  }
 ],
 "metadata": {
  "kernelspec": {
   "display_name": "Python [default]",
   "language": "python",
   "name": "python3"
  },
  "language_info": {
   "codemirror_mode": {
    "name": "ipython",
    "version": 3
   },
   "file_extension": ".py",
   "mimetype": "text/x-python",
   "name": "python",
   "nbconvert_exporter": "python",
   "pygments_lexer": "ipython3",
   "version": "3.6.5"
  }
 },
 "nbformat": 4,
 "nbformat_minor": 2
}
